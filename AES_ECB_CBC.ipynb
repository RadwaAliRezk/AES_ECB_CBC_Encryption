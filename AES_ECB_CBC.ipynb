{
  "cells": [
    {
      "cell_type": "code",
      "execution_count": null,
      "metadata": {
        "colab": {
          "base_uri": "https://localhost:8080/"
        },
        "id": "MCjXLAbG9aVp",
        "outputId": "df49e880-c4ec-43bc-d67c-a80cd36740f9"
      },
      "outputs": [
        {
          "output_type": "stream",
          "name": "stdout",
          "text": [
            "[('0f', '15', '71', 'c9'), ('47', 'd9', 'e8', '59'), ('0c', 'b7', 'ad', 'd6'), ('af', '7f', '67', '98'), ('dc', '90', '37', 'b0'), ('9b', '49', 'df', 'e9'), ('97', 'fe', '72', '3f'), ('38', '81', '15', 'a7'), ('d2', 'c9', '6b', 'b7'), ('49', '80', 'b4', '5e'), ('de', '7e', 'c6', '61'), ('e6', 'ff', 'd3', 'c6'), ('c0', 'af', 'df', '39'), ('89', '2f', '6b', '67'), ('57', '51', 'ad', '06'), ('b1', 'ae', '7e', 'c0'), ('2c', '5c', '65', 'f1'), ('a5', '73', '0e', '96'), ('f2', '22', 'a3', '90'), ('43', '8c', 'dd', '50'), ('58', '9d', '36', 'eb'), ('fd', 'ee', '38', '7d'), ('0f', 'cc', '9b', 'ed'), ('4c', '40', '46', 'bd'), ('71', 'c7', '4c', 'c2'), ('8c', '29', '74', 'bf'), ('83', 'e5', 'ef', '52'), ('cf', 'a5', 'a9', 'ef'), ('37', '14', '93', '48'), ('bb', '3d', 'e7', 'f7'), ('38', 'd8', '08', 'a5'), ('f7', '7d', 'a1', '4a'), ('48', '26', '45', '20'), ('f3', '1b', 'a2', 'd7'), ('cb', 'c3', 'aa', '72'), ('3c', 'be', '0b', '38'), ('fd', '0d', '42', 'cb'), ('0e', '16', 'e0', '1c'), ('c5', 'd5', '4a', '6e'), ('f9', '6b', '41', '56'), ('b4', '8e', 'f3', '52'), ('ba', '98', '13', '4e'), ('7f', '4d', '59', '20'), ('86', '26', '18', '76')]\n",
            "Key provided: 0f1571c947d9e8590cb7add6af7f6798\n",
            "\n",
            "\n",
            "Keywords: \n",
            "\n",
            "w0 = 0f 15 71 c9\n",
            "w1 = 47 d9 e8 59\n",
            "w2 = 0c b7 ad d6\n",
            "w3 = af 7f 67 98\n",
            "w4 = dc 90 37 b0\n",
            "w5 = 9b 49 df e9\n",
            "w6 = 97 fe 72 3f\n",
            "w7 = 38 81 15 a7\n",
            "w8 = d2 c9 6b b7\n",
            "w9 = 49 80 b4 5e\n",
            "w10 = de 7e c6 61\n",
            "w11 = e6 ff d3 c6\n",
            "w12 = c0 af df 39\n",
            "w13 = 89 2f 6b 67\n",
            "w14 = 57 51 ad 06\n",
            "w15 = b1 ae 7e c0\n",
            "w16 = 2c 5c 65 f1\n",
            "w17 = a5 73 0e 96\n",
            "w18 = f2 22 a3 90\n",
            "w19 = 43 8c dd 50\n",
            "w20 = 58 9d 36 eb\n",
            "w21 = fd ee 38 7d\n",
            "w22 = 0f cc 9b ed\n",
            "w23 = 4c 40 46 bd\n",
            "w24 = 71 c7 4c c2\n",
            "w25 = 8c 29 74 bf\n",
            "w26 = 83 e5 ef 52\n",
            "w27 = cf a5 a9 ef\n",
            "w28 = 37 14 93 48\n",
            "w29 = bb 3d e7 f7\n",
            "w30 = 38 d8 08 a5\n",
            "w31 = f7 7d a1 4a\n",
            "w32 = 48 26 45 20\n",
            "w33 = f3 1b a2 d7\n",
            "w34 = cb c3 aa 72\n",
            "w35 = 3c be 0b 38\n",
            "w36 = fd 0d 42 cb\n",
            "w37 = 0e 16 e0 1c\n",
            "w38 = c5 d5 4a 6e\n",
            "w39 = f9 6b 41 56\n",
            "w40 = b4 8e f3 52\n",
            "w41 = ba 98 13 4e\n",
            "w42 = 7f 4d 59 20\n",
            "w43 = 86 26 18 76\n"
          ]
        }
      ],
      "source": [
        "sbox = [0x63, 0x7c, 0x77, 0x7b, 0xf2, 0x6b, 0x6f, 0xc5, 0x30, 0x01, 0x67, 0x2b, 0xfe, 0xd7, 0xab, 0x76,\n",
        "\t\t0xca, 0x82, 0xc9, 0x7d, 0xfa, 0x59, 0x47, 0xf0, 0xad, 0xd4, 0xa2, 0xaf, 0x9c, 0xa4, 0x72, 0xc0,\n",
        "\t\t0xb7, 0xfd, 0x93, 0x26, 0x36, 0x3f, 0xf7, 0xcc, 0x34, 0xa5, 0xe5, 0xf1, 0x71, 0xd8, 0x31, 0x15,\n",
        "\t\t0x04, 0xc7, 0x23, 0xc3, 0x18, 0x96, 0x05, 0x9a, 0x07, 0x12, 0x80, 0xe2, 0xeb, 0x27, 0xb2, 0x75,\n",
        "\t\t0x09, 0x83, 0x2c, 0x1a, 0x1b, 0x6e, 0x5a, 0xa0, 0x52, 0x3b, 0xd6, 0xb3, 0x29, 0xe3, 0x2f, 0x84,\n",
        "\t\t0x53, 0xd1, 0x00, 0xed, 0x20, 0xfc, 0xb1, 0x5b, 0x6a, 0xcb, 0xbe, 0x39, 0x4a, 0x4c, 0x58, 0xcf,\n",
        "\t\t0xd0, 0xef, 0xaa, 0xfb, 0x43, 0x4d, 0x33, 0x85, 0x45, 0xf9, 0x02, 0x7f, 0x50, 0x3c, 0x9f, 0xa8,\n",
        "\t\t0x51, 0xa3, 0x40, 0x8f, 0x92, 0x9d, 0x38, 0xf5, 0xbc, 0xb6, 0xda, 0x21, 0x10, 0xff, 0xf3, 0xd2,\n",
        "\t\t0xcd, 0x0c, 0x13, 0xec, 0x5f, 0x97, 0x44, 0x17, 0xc4, 0xa7, 0x7e, 0x3d, 0x64, 0x5d, 0x19, 0x73,\n",
        "\t\t0x60, 0x81, 0x4f, 0xdc, 0x22, 0x2a, 0x90, 0x88, 0x46, 0xee, 0xb8, 0x14, 0xde, 0x5e, 0x0b, 0xdb,\n",
        "\t\t0xe0, 0x32, 0x3a, 0x0a, 0x49, 0x06, 0x24, 0x5c, 0xc2, 0xd3, 0xac, 0x62, 0x91, 0x95, 0xe4, 0x79,\n",
        "\t\t0xe7, 0xc8, 0x37, 0x6d, 0x8d, 0xd5, 0x4e, 0xa9, 0x6c, 0x56, 0xf4, 0xea, 0x65, 0x7a, 0xae, 0x08,\n",
        "\t\t0xba, 0x78, 0x25, 0x2e, 0x1c, 0xa6, 0xb4, 0xc6, 0xe8, 0xdd, 0x74, 0x1f, 0x4b, 0xbd, 0x8b, 0x8a,\n",
        "\t\t0x70, 0x3e, 0xb5, 0x66, 0x48, 0x03, 0xf6, 0x0e, 0x61, 0x35, 0x57, 0xb9, 0x86, 0xc1, 0x1d, 0x9e,\n",
        "\t\t0xe1, 0xf8, 0x98, 0x11, 0x69, 0xd9, 0x8e, 0x94, 0x9b, 0x1e, 0x87, 0xe9, 0xce, 0x55, 0x28, 0xdf,\n",
        "\t\t0x8c, 0xa1, 0x89, 0x0d, 0xbf, 0xe6, 0x42, 0x68, 0x41, 0x99, 0x2d, 0x0f, 0xb0, 0x54, 0xbb, 0x16]\n",
        "\n",
        "Rcon = [0x00000000, 0x01000000, 0x02000000,\n",
        "\t\t0x04000000, 0x08000000, 0x10000000,\n",
        "\t\t0x20000000, 0x40000000, 0x80000000,\n",
        "\t\t0x1b000000, 0x36000000]\n",
        "\n",
        "def keyExpansion(key):\n",
        "\t#prep w list to hold 44 tuples\n",
        "\tw = [()]*44\n",
        "\n",
        "\t#fill out first 4 words based on the key\n",
        "\tfor i in range(4):\n",
        "\t\tw[i] = (key[4*i], key[4*i+1], key[4*i+2], key[4*i+3])\n",
        "\n",
        "\t#fill out the rest based on previews words, rotword, subword and rcon values\n",
        "\tfor i in range(4, 44):\n",
        "\t\t#get required previous keywords\n",
        "\t\ttemp = w[i-1]\n",
        "\t\tword = w[i-4]\n",
        "\n",
        "\t\t#if multiple of 4 use rot, sub, rcon etc\n",
        "\t\tif i % 4 == 0:\n",
        "\t\t\tx = RotWord(temp)\n",
        "\t\t\ty = SubWord(x)\n",
        "\t\t\trcon = Rcon[int(i/4)]\n",
        "\n",
        "\t\t\ttemp = hexor(y, hex(rcon)[2:])\n",
        "\n",
        "\t\t#creating strings of hex rather than tuple\n",
        "\t\tword = ''.join(word)\n",
        "\t\ttemp = ''.join(temp)\n",
        "\n",
        "\t\t#xor the two hex values\n",
        "\t\txord = hexor(word, temp)\n",
        "\t\tw[i] = (xord[:2], xord[2:4], xord[4:6], xord[6:8])\n",
        "\n",
        "\treturn w\n",
        "\n",
        "#takes two hex values and calculates hex1 xor hex2\n",
        "def hexor(hex1, hex2):\n",
        "\t#convert to binary\n",
        "\tbin1 = hex2binary(hex1)\n",
        "\tbin2 = hex2binary(hex2)\n",
        "\n",
        "\t#calculate\n",
        "\txord = int(bin1, 2) ^ int(bin2, 2)\n",
        "\n",
        "\t#cut prefix\n",
        "\thexed = hex(xord)[2:]\n",
        "\n",
        "\t#leading 0s get cut above, if not length 8 add a leading 0\n",
        "\tif len(hexed) != 8:\n",
        "\t\thexed = '0' + hexed\n",
        "\n",
        "\treturn hexed\n",
        "\n",
        "#takes a hex value and returns binary\n",
        "def hex2binary(hex):\n",
        "\treturn bin(int(str(hex), 16))\n",
        "\n",
        "\n",
        "#takes from 1 to the end, adds on from the start to 1\n",
        "def RotWord(word):\n",
        "\treturn word[1:] + word[:1]\n",
        "\n",
        "\n",
        "#selects correct value from sbox based on the current word\n",
        "def SubWord(word):\n",
        "\tsWord = ()\n",
        "\n",
        "\t#loop throug the current word\n",
        "\tfor i in range(4):\n",
        "\n",
        "\t\t#check first char, if its a letter(a-f) get corresponding decimal\n",
        "\t\t#otherwise just take the value and add 1\n",
        "\t\tif word[i][0].isdigit() == False:\n",
        "\t\t\trow = ord(word[i][0]) - 86\n",
        "\t\telse:\n",
        "\t\t\trow = int(word[i][0])+1\n",
        "\n",
        "\t\t#repeat above for the seoncd char\n",
        "\t\tif word[i][1].isdigit() == False:\n",
        "\t\t\tcol = ord(word[i][1]) - 86\n",
        "\t\telse:\n",
        "\t\t\tcol = int(word[i][1])+1\n",
        "\n",
        "\t\t#get the index base on row and col (16x16 grid)\n",
        "\t\tsBoxIndex = (row*16) - (17-col)\n",
        "\n",
        "\t\t#get the value from sbox without prefix\n",
        "\t\tpiece = hex(sbox[sBoxIndex])[2:]\n",
        "\n",
        "\t\t#check length to ensure leading 0s are not forgotton\n",
        "\t\tif len(piece) != 2:\n",
        "\t\t\tpiece = '0' + piece\n",
        "\n",
        "\t\t#form tuple\n",
        "\t\tsWord = (*sWord, piece)\n",
        "\n",
        "\t#return string\n",
        "\treturn ''.join(sWord)\n",
        "\n",
        "#used to display the keywords neatly in this form: w0 = 0f 15 71 c9\n",
        "def prettyPrint(w):\n",
        "\tprint(\"\\n\\nKeywords: \\n\")\n",
        "\n",
        "\tfor i in range(len(w)):\n",
        "\t\tprint(\"w\" + str(i), \"=\", w[i][0], w[i][1], w[i][2], w[i][3])\n",
        "\n",
        "\n",
        "def main():\n",
        "\t#hardcoding input key for demonstration purposes, could be read in from user/program via cmd/gui etc.\n",
        "\tkey = [\"0f\", \"15\", \"71\", \"c9\", \"47\", \"d9\", \"e8\", \"59\", \"0c\", \"b7\", \"ad\", \"d6\", \"af\", \"7f\", \"67\", \"98\"]\n",
        "\n",
        "\t#expand key\n",
        "\tw = keyExpansion(key)\n",
        "\tprint(w)\n",
        "\n",
        "\t#display nicely\n",
        "\tprint(\"Key provided: \" + \"\".join(key))\n",
        "\tprettyPrint(w)\n",
        "\n",
        "if __name__ == '__main__':\n",
        "\tmain()"
      ]
    },
    {
      "cell_type": "code",
      "execution_count": null,
      "metadata": {
        "id": "T3DFT23BvPth"
      },
      "outputs": [],
      "source": [
        "import numpy as np\n",
        "import matplotlib.pyplot as plt\n",
        "import math\n",
        "\n",
        "\"\"\"\n",
        "def toBinary(a):\n",
        "  l,m=[],[]\n",
        "  for i in a:\n",
        "    l.append(ord(i))\n",
        "  for i in l:\n",
        "    m.append(int(bin(i)[2:]))\n",
        "  return m\n",
        "value=\"Two One Nine Two\"\n",
        "binary_val=toBinary(value)\n",
        "\n",
        "# Python program to convert binary number\n",
        "# into hexadecimal number\n",
        "\n",
        "# Function calculates the decimal equivalent\n",
        "# to given binary number\n",
        "def binaryToDecimal(binary):\n",
        "\n",
        "\tbinary1 = int(binary)\n",
        "\tdecimal, i, n = 0, 0, 0\n",
        "\n",
        "\twhile(binary1 != 0):\n",
        "\t\tdec = binary1 % 10\n",
        "\t\tdecimal = decimal + dec * pow(2, i)\n",
        "\t\tbinary1 = binary1//10\n",
        "\t\ti += 1\n",
        "\treturn(decimal)\n",
        "\n",
        "# function to convert\n",
        "# decimal to hexadecimal\n",
        "def decToHexa(n):\n",
        "\n",
        "\t# char array to store\n",
        "\t# hexadecimal number\n",
        "\thexaDeciNum = ['0'] * 100\n",
        "\n",
        "\t# counter for hexadecimal\n",
        "\t# number array\n",
        "\ti = 0\n",
        "\twhile(n != 0):\n",
        "\n",
        "\t\t# temporary variable\n",
        "\t\t# to store remainder\n",
        "\t\ttemp = 0\n",
        "\n",
        "\t\t# storing remainder\n",
        "\t\t# in temp variable.\n",
        "\t\ttemp = n % 16\n",
        "\n",
        "\t\t# check if temp < 10\n",
        "\t\tif(temp < 10):\n",
        "\t\t\thexaDeciNum[i] = chr(temp + 48)\n",
        "\t\t\ti = i + 1\n",
        "\t\telse:\n",
        "\t\t\thexaDeciNum[i] = chr(temp + 55)\n",
        "\t\t\ti = i + 1\n",
        "\t\tn = int(n / 16)\n",
        "\n",
        "\t# printing hexadecimal number\n",
        "\t# array in reverse order\n",
        "\tj = i - 1\n",
        "\twhile(j >= 0):\n",
        "\t\tprint((hexaDeciNum[j]), end=\"\")\n",
        "\t\tj = j - 1\n",
        "\tprint()\n",
        "\n",
        "# function to convert binary to\n",
        "# hexadecimal\n",
        "def binToHexa(n):\n",
        "\tdecimal = binaryToDecimal(n)\n",
        "\tprint(\"Hexadecimal equivalent of {}: \".format(n))\n",
        "\tdecToHexa(decimal)\n",
        "for i in range(len(binary_val)):\n",
        "  binary_val[i]=binToHexa(binary_val[i])\n",
        "print(binary_val)\n",
        "\"\"\"\n",
        "def convert_1d_to_2d(l, cols):\n",
        "    return [l[j:j + cols] for j in range(0, len(l), cols)]\n",
        "def convertPlain(plain):\n",
        "\t\tv2=plain.encode('utf-8')\n",
        "\t\tb=v2.hex()\n",
        "\t#convert from string to hex\n",
        "\t#v2=\"Two One Nine Two\".encode('utf-8')\n",
        "  #print(b)\n",
        "\n",
        "  #convert plaintext to 1d array\n",
        "  #a = '54776f204f6e65204e696e652054776f'\n",
        "\t\tn = 2\n",
        "\t\tm1 = [b[i:i+n] for i in range(0, len(b), n)]\n",
        "   #print (\"this is the 1d array\"+\"\",m1)\n",
        "\n",
        "  #convert 1d array  to 2d array\n",
        "\t\tmy_matrix=convert_1d_to_2d(m1, 4)\n",
        "  #print(\"this is the 2d array plaintext\"+\"\",my_matrix)\n",
        "\t# here we need to arrange array to be in rows rather than in columns, so we did some manipulations\n",
        "  #77\n",
        "\t\ttemp=my_matrix[0][1]\n",
        "\t\tmy_matrix[0][1]=my_matrix[1][0]\n",
        "\t\t#print(my_matrix)\n",
        "\t\t#6f\n",
        "\t\ttemp2= my_matrix[0][2]\n",
        "\t\tmy_matrix[0][2]=my_matrix[2][0]\n",
        "  #print(my_matrix)\n",
        "  #20\n",
        "\t\ttemp3= my_matrix[0][3]\n",
        "\t\tmy_matrix[0][3]=my_matrix[3][0]\n",
        "  #4f\n",
        "\t\ttemp4= my_matrix[1][0]\n",
        "\t\tmy_matrix[1][0]=temp\n",
        "  #print(my_matrix)\n",
        "  #65\n",
        "\t\ttemp5= my_matrix[1][2]\n",
        "\t\tmy_matrix[1][2]=my_matrix[2][1]\n",
        "  #print(my_matrix)\n",
        "  #20\n",
        "\t\ttemp6= my_matrix[1][3]\n",
        "\t\tmy_matrix[1][3]=my_matrix[3][1]\n",
        "  #print(my_matrix)\n",
        "  #20\n",
        "\t\ttemp7= my_matrix[1][3]\n",
        "\t\tmy_matrix[2][0]=temp2\n",
        "  #print(my_matrix)\n",
        "  #69\n",
        "\t\ttemp8= my_matrix[2][1]\n",
        "\t\tmy_matrix[2][1]=temp5\n",
        "  #print(my_matrix)\n",
        "  #65\n",
        "\t\ttemp9= my_matrix[2][3]\n",
        "\t\tmy_matrix[2][3]=my_matrix[3][2]\n",
        "  #print(my_matrix)\n",
        "  #3rd row and final one\n",
        "\t\tmy_matrix[3][0]=temp3\n",
        "\t\tmy_matrix[3][1]=temp6\n",
        "\t\tmy_matrix[3][2]=temp9\n",
        "  #print(my_matrix)\n",
        "\t\treturn my_matrix\n",
        "#print(convertPlain(\"One One Nine ome\"))\n",
        "#[['54', '4f', '4e', '20'], ['77', '6e', '69', '54'], ['6f', '65', '6e', '77'], ['20', '20', '65', '6f']]"
      ]
    },
    {
      "cell_type": "code",
      "execution_count": null,
      "metadata": {
        "colab": {
          "base_uri": "https://localhost:8080/",
          "height": 90
        },
        "id": "WYTMSqpqwCxH",
        "outputId": "067b1361-4104-4143-a2a7-5f345a713562"
      },
      "outputs": [
        {
          "output_type": "stream",
          "name": "stdout",
          "text": [
            "[['54', '73', '20', '67'], ['68', '20', '4b', '20'], ['61', '6d', '75', '46'], ['74', '79', '6e', '75'], ['e3', 'ec', 'bd', 'f5'], ['8b', 'cc', 'f6', 'd5'], ['ea', 'a1', '83', '93'], ['9e', 'd8', 'ed', 'e6'], ['80', 'b9', '33', 'fe'], ['0b', '75', 'c5', '2b'], ['e1', 'd4', '46', 'b8'], ['7f', '0c', 'ab', '5e'], ['7a', 'db', '6b', '2c'], ['71', 'ae', 'ae', '07'], ['90', '7a', 'e8', 'bf'], ['ef', '76', '43', 'e1'], ['4a', 'c1', '93', 'f3'], ['3b', '6f', '3d', 'f4'], ['ab', '15', 'd5', '4b'], ['44', '63', '96', 'aa'], ['a1', '51', '3f', 'e8'], ['9a', '3e', '02', '1c'], ['31', '2b', 'd7', '57'], ['75', '48', '41', 'fd'], ['d3', 'd2', '6b', '75'], ['49', 'ec', '69', '69'], ['78', 'c7', 'be', '3e'], ['0d', '8f', 'ff', 'c3'], ['e0', 'c4', '45', 'a2'], ['a9', '28', '2c', 'cb'], ['d1', 'ef', '92', 'f5'], ['dc', '60', '6d', '36'], ['b0', 'f8', '40', '24'], ['19', 'd0', '6c', 'ef'], ['c8', '3f', 'fe', '1a'], ['14', '5f', '93', '2c'], ['64', '24', '31', 'de'], ['7d', 'f4', '5d', '31'], ['b5', 'cb', 'a3', '2b'], ['a1', '94', '30', '07'], ['70', '20', 'f4', 'ec'], ['0d', 'd4', 'a9', 'dd'], ['b8', '1f', '0a', 'f6'], ['19', '8b', '3a', 'f1']]\n"
          ]
        },
        {
          "output_type": "execute_result",
          "data": {
            "text/plain": [
              "'\\nkey_0x=new_life(table)\\nmy_matrix0x=new_life(my_matrix)\\nprint(key_0x)\\nprint(my_matrix0x)\\n\\n\\n\\n#test binaryfor our key\\nbin1 = hex2binary(\"20\")\\nbin2 = hex2binary(\"6e\")\\nxord= int(bin1, 2) ^ int(bin2, 2)\\nhexed = hex(xord)[2:]\\nif len(hexed) != 8:\\n\\t\\thexed = \\'0\\' + hexed\\nprint(hexed)\\n'"
            ],
            "application/vnd.google.colaboratory.intrinsic+json": {
              "type": "string"
            }
          },
          "metadata": {},
          "execution_count": 3
        }
      ],
      "source": [
        "#here is the tab of initialize key and make it 2d array\n",
        "\"\"\"\n",
        "def new_life (a):\n",
        "  append_str = '0x'\n",
        "  for i in range(len(a)):\n",
        "    for j in range(len(a[i])):\n",
        "      a[i][j]=append_str+a[i][j]\n",
        "  return a\n",
        "\"\"\"\n",
        "#our key that wa are working with\n",
        "key = [\"54\", \"73\", \"20\", \"67\", \"68\", \"20\", \"4b\", \"20\", \"61\", \"6d\", \"75\", \"46\", \"74\" ,\"79\", \"6e\" ,\"75\"]\n",
        "\n",
        "#expand key\n",
        "w= keyExpansion(key)\n",
        "table= list(map(list, w))\n",
        "print(table)\n",
        "\"\"\"\n",
        "key_0x=new_life(table)\n",
        "my_matrix0x=new_life(my_matrix)\n",
        "print(key_0x)\n",
        "print(my_matrix0x)\n",
        "\n",
        "\n",
        "\n",
        "#test binaryfor our key\n",
        "bin1 = hex2binary(\"20\")\n",
        "bin2 = hex2binary(\"6e\")\n",
        "xord= int(bin1, 2) ^ int(bin2, 2)\n",
        "hexed = hex(xord)[2:]\n",
        "if len(hexed) != 8:\n",
        "\t\thexed = '0' + hexed\n",
        "print(hexed)\n",
        "\"\"\"\n",
        ""
      ]
    },
    {
      "cell_type": "code",
      "execution_count": null,
      "metadata": {
        "colab": {
          "base_uri": "https://localhost:8080/"
        },
        "id": "uZ5B1AuKG6xR",
        "outputId": "f1b6be98-c585-4576-d4a0-865eb49ff398"
      },
      "outputs": [
        {
          "output_type": "stream",
          "name": "stdout",
          "text": [
            "[['00', '3c', '6e', '47'], ['1f', '4e', '22', '74'], ['0e', '08', '1b', '31'], ['54', '59', '0b', '1a']]\n",
            "[['1b', '3c', '6e', '47'], ['06', '4e', '22', '4f'], ['04', '08', '1b', '2b'], ['54', '59', '0b', '10']]\n"
          ]
        }
      ],
      "source": [
        "def AddRoundKey(state, roundKey):\n",
        "    rows, cols = (4, 4)\n",
        "    arr1 = [[0 for i in range(cols)] for j in range(rows)]\n",
        "    for i in range(len(state)):\n",
        "      for j in range(len(state[i])):\n",
        "        #arr1[i][j] = hex(int(state[i][j], 16) ^ int(roundKey[i][j], 16))\n",
        "        arr1[i][j]=hexor(state[i][j],roundKey[i][j])\n",
        "        s=arr1[i][j]\n",
        "        if len(s)>2:\n",
        "          arr1[i][j]=s[1:]\n",
        "    return arr1\n",
        "\n",
        "\"\"\"\n",
        "rows, cols = (4, 4)\n",
        "arr = [[0 for i in range(cols)] for j in range(rows)]\n",
        "\n",
        "for i in range(4):\n",
        "  for j in range(4):\n",
        "    arr[i][j]=table[i][j]\n",
        "print(arr)\n",
        "print(my_matrix)\n",
        "m_afterR=AddRoundKey(my_matrix,arr)\n",
        "print(\"this output of add round\" +\"\",m_afterR)\n",
        "\"\"\"\n",
        "\n",
        "\"\"\"\n",
        "bin1 = hex2binary(\"20\")\n",
        "bin2 = hex2binary(\"6e\")\n",
        "xord= int(bin1, 2) ^ int(bin2, 2)\n",
        "hexed = hex(xord)[2:]\n",
        "if len(hexed) != 8:\n",
        "\t\thexed = '0' + hexed\n",
        "print(hexed)\n",
        "\n",
        "\"\"\"\n",
        "statem=[['54', '4f', '4e', '20'], ['77', '6e', '69', '54'], ['6f', '65', '6e', '77'], ['20', '20', '65', '6f']]\n",
        "keym=['54', '73', '20', '67'], ['68', '20', '4b', '20'], ['61', '6d', '75', '46'], ['74', '79', '6e', '75']\n",
        "print(AddRoundKey(statem,keym))\n",
        "#['54', '73', '20', '67'], ['68', '20', '4b', '20'], ['61', '6d', '75', '46'], ['74', '79', '6e', '75']\n",
        "statec=[['4f', '4f', '4e', '20'], ['6e', '6e', '69', '6f'], ['65', '65', '6e', '6d'], ['20', '20', '65', '65']]\n",
        "print(AddRoundKey(statec,keym))"
      ]
    },
    {
      "cell_type": "code",
      "execution_count": null,
      "metadata": {
        "colab": {
          "base_uri": "https://localhost:8080/"
        },
        "id": "UsX2C5YXK3sS",
        "outputId": "ee4fc8a1-fb9e-46e0-da31-b6eff67e4c4b"
      },
      "outputs": [
        {
          "output_type": "stream",
          "name": "stdout",
          "text": [
            "[['af', 'eb', '9f', 'a0'], ['6f', '2f', '93', '84'], ['f2', '30', 'af', 'f1'], ['20', 'cb', '2b', 'ca']]\n",
            "[['63', 'eb', '9f', 'a0'], ['c0', '2f', '93', '92'], ['ab', '30', 'af', 'c7'], ['20', 'cb', '2b', 'a2']]\n"
          ]
        }
      ],
      "source": [
        "def subytes(temp1):\n",
        "  temp3=\"\"\n",
        "  for i in range(4):\n",
        "    temp=SubWord(temp1[i])\n",
        "    temp3 = temp3 + temp\n",
        "  x = 2\n",
        "  m2 = [temp3[i:i+x] for i in range(0, len(temp3), x)]\n",
        "  #print(temp3)\n",
        "  #print(m2)\n",
        "  result_matrix=[m2[j:j + 4] for j in range(0, len(m2), 4)]\n",
        "  return result_matrix\n",
        "\n",
        "\"\"\"\n",
        "mtrx=[['00', '3c', '6e', '47'], ['1f', '4e', '22', '74'], ['0e', '08', '1b', '31'], ['54', '59', '0b', '1a']]\n",
        "test2= subytes(mtrx)\n",
        "print(test2)\n",
        "#print(subytes(m_afterR))\n",
        "\n",
        "\"\"\"\n",
        "state_s=[['1b', '3c', '6e', '47'], ['06', '4e', '22', '4f'], ['04', '08', '1b', '2b'], ['54', '59', '0b', '10']]\n",
        "state_s1=[['00', '3c', '6e', '47'], ['1f', '4e', '22', '74'], ['0e', '08', '1b', '31'], ['54', '59', '0b', '1a']]\n",
        "print(subytes(state_s))\n",
        "print(subytes(state_s1))\n",
        "\n"
      ]
    },
    {
      "cell_type": "code",
      "execution_count": null,
      "metadata": {
        "colab": {
          "base_uri": "https://localhost:8080/"
        },
        "id": "81OvYefybY_-",
        "outputId": "e9836e86-455d-487f-8291-db1cec7be582"
      },
      "outputs": [
        {
          "output_type": "stream",
          "name": "stdout",
          "text": [
            "[['6d', '2b', '93', '20'], ['23', '23', '94', '30'], ['af', 'c7', 'ab', '30'], ['a2', '20', 'cb', '2b']]\n"
          ]
        }
      ],
      "source": [
        "def shiftrows(state):\n",
        "  #2 row\n",
        "  temp= state[1][3]\n",
        "  state[1][3]=state[1][0]\n",
        "  state[1][0]=state[1][1]\n",
        "  state[1][1]=state[1][2]\n",
        "  state[1][2]=temp\n",
        "  # 3 row\n",
        "  temp1=state[2][0]\n",
        "  temp2=state[2][1]\n",
        "  state[2][0]=state[2][2]\n",
        "  state[2][1]=state[2][3]\n",
        "  state[2][2]=temp1\n",
        "  state[2][3]=temp2\n",
        "  #4 row\n",
        "  temp3=state[3][0]\n",
        "  state[3][0]=state[3][3]\n",
        "  state[3][3]=state[3][2]\n",
        "  state[3][2]=state[3][1]\n",
        "  state[3][1]=temp3\n",
        "  return state\n",
        "\n",
        "state=[['6d', '2b', '93', '20'], ['30', '23', '23', '94'], ['ab', '30', 'af', 'c7'], ['20', 'cb', '2b', 'a2']]\n",
        "print(shiftrows(state))"
      ]
    },
    {
      "cell_type": "code",
      "source": [
        "\"\"\"\n",
        "MIX_COLUMN_MATRIX = (\n",
        "    (0x2, 0x3, 0x1, 0x1),\n",
        "    (0x1, 0x2, 0x3, 0x1),\n",
        "    (0x1, 0x1, 0x2, 0x3),\n",
        "    (0x3, 0x1, 0x1, 0x2),\n",
        ")\n",
        "RIJNDAEL_LOG_TABLE = (\n",
        "    0x00, 0x00, 0x19, 0x01, 0x32, 0x02, 0x1a, 0xc6,\n",
        "    0x4b, 0xc7, 0x1b, 0x68, 0x33, 0xee, 0xdf, 0x03,\n",
        "    0x64, 0x04, 0xe0, 0x0e, 0x34, 0x8d, 0x81, 0xef,\n",
        "    0x4c, 0x71, 0x08, 0xc8, 0xf8, 0x69, 0x1c, 0xc1,\n",
        "    0x7d, 0xc2, 0x1d, 0xb5, 0xf9, 0xb9, 0x27, 0x6a,\n",
        "    0x4d, 0xe4, 0xa6, 0x72, 0x9a, 0xc9, 0x09, 0x78,\n",
        "    0x65, 0x2f, 0x8a, 0x05, 0x21, 0x0f, 0xe1, 0x24,\n",
        "    0x12, 0xf0, 0x82, 0x45, 0x35, 0x93, 0xda, 0x8e,\n",
        "    0x96, 0x8f, 0xdb, 0xbd, 0x36, 0xd0, 0xce, 0x94,\n",
        "    0x13, 0x5c, 0xd2, 0xf1, 0x40, 0x46, 0x83, 0x38,\n",
        "    0x66, 0xdd, 0xfd, 0x30, 0xbf, 0x06, 0x8b, 0x62,\n",
        "    0xb3, 0x25, 0xe2, 0x98, 0x22, 0x88, 0x91, 0x10,\n",
        "    0x7e, 0x6e, 0x48, 0xc3, 0xa3, 0xb6, 0x1e, 0x42,\n",
        "    0x3a, 0x6b, 0x28, 0x54, 0xfa, 0x85, 0x3d, 0xba,\n",
        "    0x2b, 0x79, 0x0a, 0x15, 0x9b, 0x9f, 0x5e, 0xca,\n",
        "    0x4e, 0xd4, 0xac, 0xe5, 0xf3, 0x73, 0xa7, 0x57,\n",
        "    0xaf, 0x58, 0xa8, 0x50, 0xf4, 0xea, 0xd6, 0x74,\n",
        "    0x4f, 0xae, 0xe9, 0xd5, 0xe7, 0xe6, 0xad, 0xe8,\n",
        "    0x2c, 0xd7, 0x75, 0x7a, 0xeb, 0x16, 0x0b, 0xf5,\n",
        "    0x59, 0xcb, 0x5f, 0xb0, 0x9c, 0xa9, 0x51, 0xa0,\n",
        "    0x7f, 0x0c, 0xf6, 0x6f, 0x17, 0xc4, 0x49, 0xec,\n",
        "    0xd8, 0x43, 0x1f, 0x2d, 0xa4, 0x76, 0x7b, 0xb7,\n",
        "    0xcc, 0xbb, 0x3e, 0x5a, 0xfb, 0x60, 0xb1, 0x86,\n",
        "    0x3b, 0x52, 0xa1, 0x6c, 0xaa, 0x55, 0x29, 0x9d,\n",
        "    0x97, 0xb2, 0x87, 0x90, 0x61, 0xbe, 0xdc, 0xfc,\n",
        "    0xbc, 0x95, 0xcf, 0xcd, 0x37, 0x3f, 0x5b, 0xd1,\n",
        "    0x53, 0x39, 0x84, 0x3c, 0x41, 0xa2, 0x6d, 0x47,\n",
        "    0x14, 0x2a, 0x9e, 0x5d, 0x56, 0xf2, 0xd3, 0xab,\n",
        "    0x44, 0x11, 0x92, 0xd9, 0x23, 0x20, 0x2e, 0x89,\n",
        "    0xb4, 0x7c, 0xb8, 0x26, 0x77, 0x99, 0xe3, 0xa5,\n",
        "    0x67, 0x4a, 0xed, 0xde, 0xc5, 0x31, 0xfe, 0x18,\n",
        "    0x0d, 0x63, 0x8c, 0x80, 0xc0, 0xf7, 0x70, 0x07,\n",
        ")\n",
        "RIJNDAEL_EXP_TABLE = (\n",
        "    0x01, 0x03, 0x05, 0x0F, 0x11, 0x33, 0x55, 0xFF,\n",
        "    0x1A, 0x2E, 0x72, 0x96, 0xA1, 0xF8, 0x13, 0x35,\n",
        "    0x5F, 0xE1, 0x38, 0x48, 0xD8, 0x73, 0x95, 0xA4,\n",
        "    0xF7, 0x02, 0x06, 0x0A, 0x1E, 0x22, 0x66, 0xAA,\n",
        "    0xE5, 0x34, 0x5C, 0xE4, 0x37, 0x59, 0xEB, 0x26,\n",
        "    0x6A, 0xBE, 0xD9, 0x70, 0x90, 0xAB, 0xE6, 0x31,\n",
        "    0x53, 0xF5, 0x04, 0x0C, 0x14, 0x3C, 0x44, 0xCC,\n",
        "    0x4F, 0xD1, 0x68, 0xB8, 0xD3, 0x6E, 0xB2, 0xCD,\n",
        "    0x4C, 0xD4, 0x67, 0xA9, 0xE0, 0x3B, 0x4D, 0xD7,\n",
        "    0x62, 0xA6, 0xF1, 0x08, 0x18, 0x28, 0x78, 0x88,\n",
        "    0x83, 0x9E, 0xB9, 0xD0, 0x6B, 0xBD, 0xDC, 0x7F,\n",
        "    0x81, 0x98, 0xB3, 0xCE, 0x49, 0xDB, 0x76, 0x9A,\n",
        "    0xB5, 0xC4, 0x57, 0xF9, 0x10, 0x30, 0x50, 0xF0,\n",
        "    0x0B, 0x1D, 0x27, 0x69, 0xBB, 0xD6, 0x61, 0xA3,\n",
        "    0xFE, 0x19, 0x2B, 0x7D, 0x87, 0x92, 0xAD, 0xEC,\n",
        "    0x2F, 0x71, 0x93, 0xAE, 0xE9, 0x20, 0x60, 0xA0,\n",
        "    0xFB, 0x16, 0x3A, 0x4E, 0xD2, 0x6D, 0xB7, 0xC2,\n",
        "    0x5D, 0xE7, 0x32, 0x56, 0xFA, 0x15, 0x3F, 0x41,\n",
        "    0xC3, 0x5E, 0xE2, 0x3D, 0x47, 0xC9, 0x40, 0xC0,\n",
        "    0x5B, 0xED, 0x2C, 0x74, 0x9C, 0xBF, 0xDA, 0x75,\n",
        "    0x9F, 0xBA, 0xD5, 0x64, 0xAC, 0xEF, 0x2A, 0x7E,\n",
        "    0x82, 0x9D, 0xBC, 0xDF, 0x7A, 0x8E, 0x89, 0x80,\n",
        "    0x9B, 0xB6, 0xC1, 0x58, 0xE8, 0x23, 0x65, 0xAF,\n",
        "    0xEA, 0x25, 0x6F, 0xB1, 0xC8, 0x43, 0xC5, 0x54,\n",
        "    0xFC, 0x1F, 0x21, 0x63, 0xA5, 0xF4, 0x07, 0x09,\n",
        "    0x1B, 0x2D, 0x77, 0x99, 0xB0, 0xCB, 0x46, 0xCA,\n",
        "    0x45, 0xCF, 0x4A, 0xDE, 0x79, 0x8B, 0x86, 0x91,\n",
        "    0xA8, 0xE3, 0x3E, 0x42, 0xC6, 0x51, 0xF3, 0x0E,\n",
        "    0x12, 0x36, 0x5A, 0xEE, 0x29, 0x7B, 0x8D, 0x8C,\n",
        "    0x8F, 0x8A, 0x85, 0x94, 0xA7, 0xF2, 0x0D, 0x17,\n",
        "    0x39, 0x4B, 0xDD, 0x7C, 0x84, 0x97, 0xA2, 0xFD,\n",
        "    0x1C, 0x24, 0x6C, 0xB4, 0xC7, 0x52, 0xF6, 0x01,\n",
        ")\n",
        "def rijndael_mul(a, b):\n",
        "    if a == 0 or b == 0:\n",
        "        return 0\n",
        "    return RIJNDAEL_EXP_TABLE[(RIJNDAEL_LOG_TABLE[a] + RIJNDAEL_LOG_TABLE[b]) % 0xFF]\n",
        "\n",
        "\n",
        "def mix_column(data, matrix):\n",
        "    data_mixed = []\n",
        "    for row in range(3):\n",
        "        mixed = 0\n",
        "        for column in range(3):\n",
        "            # xor is (+) and (-)\n",
        "            mixed ^= rijndael_mul(data[column], matrix[row][column])\n",
        "        data_mixed.append(mixed)\n",
        "    return data_mixed\n",
        "\n",
        "\n",
        "def mix_columns(data, matrix=MIX_COLUMN_MATRIX):\n",
        "    data_mixed = []\n",
        "    for i in range(4):\n",
        "        column = data[i * 4: (i + 1) * 4]\n",
        "        data_mixed += mix_column(column, matrix)\n",
        "    return data_mixed\n",
        "state_bin1d=[1100011, 11101011, 10011111, 10100000]\n",
        "#, 101111, 10010011, 10010010, 11000000,10101111, 11000111, 10101011, 110000,10100010, 100000, 11001011, 101011]\n",
        "print(mix_columns(state_bin1d))\n",
        "\"\"\""
      ],
      "metadata": {
        "colab": {
          "base_uri": "https://localhost:8080/",
          "height": 123
        },
        "id": "gBa6bzXT-rrY",
        "outputId": "7144c439-e2d5-4cc5-a786-ccef314482b4"
      },
      "execution_count": null,
      "outputs": [
        {
          "output_type": "execute_result",
          "data": {
            "text/plain": [
              "'\\nMIX_COLUMN_MATRIX = (\\n    (0x2, 0x3, 0x1, 0x1),\\n    (0x1, 0x2, 0x3, 0x1),\\n    (0x1, 0x1, 0x2, 0x3),\\n    (0x3, 0x1, 0x1, 0x2),\\n)\\nRIJNDAEL_LOG_TABLE = (\\n    0x00, 0x00, 0x19, 0x01, 0x32, 0x02, 0x1a, 0xc6,\\n    0x4b, 0xc7, 0x1b, 0x68, 0x33, 0xee, 0xdf, 0x03,\\n    0x64, 0x04, 0xe0, 0x0e, 0x34, 0x8d, 0x81, 0xef,\\n    0x4c, 0x71, 0x08, 0xc8, 0xf8, 0x69, 0x1c, 0xc1,\\n    0x7d, 0xc2, 0x1d, 0xb5, 0xf9, 0xb9, 0x27, 0x6a,\\n    0x4d, 0xe4, 0xa6, 0x72, 0x9a, 0xc9, 0x09, 0x78,\\n    0x65, 0x2f, 0x8a, 0x05, 0x21, 0x0f, 0xe1, 0x24,\\n    0x12, 0xf0, 0x82, 0x45, 0x35, 0x93, 0xda, 0x8e,\\n    0x96, 0x8f, 0xdb, 0xbd, 0x36, 0xd0, 0xce, 0x94,\\n    0x13, 0x5c, 0xd2, 0xf1, 0x40, 0x46, 0x83, 0x38,\\n    0x66, 0xdd, 0xfd, 0x30, 0xbf, 0x06, 0x8b, 0x62,\\n    0xb3, 0x25, 0xe2, 0x98, 0x22, 0x88, 0x91, 0x10,\\n    0x7e, 0x6e, 0x48, 0xc3, 0xa3, 0xb6, 0x1e, 0x42,\\n    0x3a, 0x6b, 0x28, 0x54, 0xfa, 0x85, 0x3d, 0xba,\\n    0x2b, 0x79, 0x0a, 0x15, 0x9b, 0x9f, 0x5e, 0xca,\\n    0x4e, 0xd4, 0xac, 0xe5, 0xf3, 0x73, 0xa7, 0x57,\\n    0xaf, 0x58, 0xa8, 0x50, 0xf4, 0xea, 0xd6, 0x74,\\n    0x4f, 0xae, 0xe9, 0xd5, 0xe7, 0xe6, 0xad, 0xe8,\\n    0x2c, 0xd7, 0x75, 0x7a, 0xeb, 0x16, 0x0b, 0xf5,\\n    0x59, 0xcb, 0x5f, 0xb0, 0x9c, 0xa9, 0x51, 0xa0,\\n    0x7f, 0x0c, 0xf6, 0x6f, 0x17, 0xc4, 0x49, 0xec,\\n    0xd8, 0x43, 0x1f, 0x2d, 0xa4, 0x76, 0x7b, 0xb7,\\n    0xcc, 0xbb, 0x3e, 0x5a, 0xfb, 0x60, 0xb1, 0x86,\\n    0x3b, 0x52, 0xa1, 0x6c, 0xaa, 0x55, 0x29, 0x9d,\\n    0x97, 0xb2, 0x87, 0x90, 0x61, 0xbe, 0xdc, 0xfc,\\n    0xbc, 0x95, 0xcf, 0xcd, 0x37, 0x3f, 0x5b, 0xd1,\\n    0x53, 0x39, 0x84, 0x3c, 0x41, 0xa2, 0x6d, 0x47,\\n    0x14, 0x2a, 0x9e, 0x5d, 0x56, 0xf2, 0xd3, 0xab,\\n    0x44, 0x11, 0x92, 0xd9, 0x23, 0x20, 0x2e, 0x89,\\n    0xb4, 0x7c, 0xb8, 0x26, 0x77, 0x99, 0xe3, 0xa5,\\n    0x67, 0x4a, 0xed, 0xde, 0xc5, 0x31, 0xfe, 0x18,\\n    0x0d, 0x63, 0x8c, 0x80, 0xc0, 0xf7, 0x70, 0x07,\\n)\\nRIJNDAEL_EXP_TABLE = (\\n    0x01, 0x03, 0x05, 0x0F, 0x11, 0x33, 0x55, 0xFF,\\n    0x1A, 0x2E, 0x72, 0x96, 0xA1, 0xF8, 0x13, 0x35,\\n    0x5F, 0xE1, 0x38, 0x48, 0xD8, 0x73, 0x95, 0xA4,\\n    0xF7, 0x02, 0x06, 0x0A, 0x1E, 0x22, 0x66, 0xAA,\\n    0xE5, 0x34, 0x5C, 0xE4, 0x37, 0x59, 0xEB, 0x26,\\n    0x6A, 0xBE, 0xD9, 0x70, 0x90, 0xAB, 0xE6, 0x31,\\n    0x53, 0xF5, 0x04, 0x0C, 0x14, 0x3C, 0x44, 0xCC,\\n    0x4F, 0xD1, 0x68, 0xB8, 0xD3, 0x6E, 0xB2, 0xCD,\\n    0x4C, 0xD4, 0x67, 0xA9, 0xE0, 0x3B, 0x4D, 0xD7,\\n    0x62, 0xA6, 0xF1, 0x08, 0x18, 0x28, 0x78, 0x88,\\n    0x83, 0x9E, 0xB9, 0xD0, 0x6B, 0xBD, 0xDC, 0x7F,\\n    0x81, 0x98, 0xB3, 0xCE, 0x49, 0xDB, 0x76, 0x9A,\\n    0xB5, 0xC4, 0x57, 0xF9, 0x10, 0x30, 0x50, 0xF0,\\n    0x0B, 0x1D, 0x27, 0x69, 0xBB, 0xD6, 0x61, 0xA3,\\n    0xFE, 0x19, 0x2B, 0x7D, 0x87, 0x92, 0xAD, 0xEC,\\n    0x2F, 0x71, 0x93, 0xAE, 0xE9, 0x20, 0x60, 0xA0,\\n    0xFB, 0x16, 0x3A, 0x4E, 0xD2, 0x6D, 0xB7, 0xC2,\\n    0x5D, 0xE7, 0x32, 0x56, 0xFA, 0x15, 0x3F, 0x41,\\n    0xC3, 0x5E, 0xE2, 0x3D, 0x47, 0xC9, 0x40, 0xC0,\\n    0x5B, 0xED, 0x2C, 0x74, 0x9C, 0xBF, 0xDA, 0x75,\\n    0x9F, 0xBA, 0xD5, 0x64, 0xAC, 0xEF, 0x2A, 0x7E,\\n    0x82, 0x9D, 0xBC, 0xDF, 0x7A, 0x8E, 0x89, 0x80,\\n    0x9B, 0xB6, 0xC1, 0x58, 0xE8, 0x23, 0x65, 0xAF,\\n    0xEA, 0x25, 0x6F, 0xB1, 0xC8, 0x43, 0xC5, 0x54,\\n    0xFC, 0x1F, 0x21, 0x63, 0xA5, 0xF4, 0x07, 0x09,\\n    0x1B, 0x2D, 0x77, 0x99, 0xB0, 0xCB, 0x46, 0xCA,\\n    0x45, 0xCF, 0x4A, 0xDE, 0x79, 0x8B, 0x86, 0x91,\\n    0xA8, 0xE3, 0x3E, 0x42, 0xC6, 0x51, 0xF3, 0x0E,\\n    0x12, 0x36, 0x5A, 0xEE, 0x29, 0x7B, 0x8D, 0x8C,\\n    0x8F, 0x8A, 0x85, 0x94, 0xA7, 0xF2, 0x0D, 0x17,\\n    0x39, 0x4B, 0xDD, 0x7C, 0x84, 0x97, 0xA2, 0xFD,\\n    0x1C, 0x24, 0x6C, 0xB4, 0xC7, 0x52, 0xF6, 0x01,\\n)\\ndef rijndael_mul(a, b):\\n    if a == 0 or b == 0:\\n        return 0\\n    return RIJNDAEL_EXP_TABLE[(RIJNDAEL_LOG_TABLE[a] + RIJNDAEL_LOG_TABLE[b]) % 0xFF]\\n\\n\\ndef mix_column(data, matrix):\\n    data_mixed = []\\n    for row in range(3):\\n        mixed = 0\\n        for column in range(3):\\n            # xor is (+) and (-)\\n            mixed ^= rijndael_mul(data[column], matrix[row][column])\\n        data_mixed.append(mixed)\\n    return data_mixed\\n\\n\\ndef mix_columns(data, matrix=MIX_COLUMN_MATRIX):\\n    data_mixed = []\\n    for i in range(4):\\n        column = data[i * 4: (i + 1) * 4]\\n        data_mixed += mix_column(column, matrix)\\n    return data_mixed\\nstate_bin1d=[1100011, 11101011, 10011111, 10100000]\\n#, 101111, 10010011, 10010010, 11000000,10101111, 11000111, 10101011, 110000,10100010, 100000, 11001011, 101011]\\nprint(mix_columns(state_bin1d))\\n'"
            ],
            "application/vnd.google.colaboratory.intrinsic+json": {
              "type": "string"
            }
          },
          "metadata": {},
          "execution_count": 7
        }
      ]
    },
    {
      "cell_type": "code",
      "execution_count": null,
      "metadata": {
        "id": "xpErc6lG7Ss9",
        "colab": {
          "base_uri": "https://localhost:8080/"
        },
        "outputId": "d6a6a875-8acd-4e4d-c55b-d2aee1f03707"
      },
      "outputs": [
        {
          "output_type": "stream",
          "name": "stdout",
          "text": [
            "[['0x32', '0x9f', '0x40', '0x3'], ['0xfd', '0xaf', '0xe', '0x73'], ['0xdc', '0x6d', '0xd5', '0xa5'], ['0x2', '0x1a', '0x6', '0x86']]\n"
          ]
        }
      ],
      "source": [
        "def flatten_list(_2d_list):\n",
        "    flat_list = []\n",
        "    # Iterate through the outer list\n",
        "    for element in _2d_list:\n",
        "        if type(element) is list:\n",
        "            # If the element is of type list, iterate through the sublist\n",
        "            for item in element:\n",
        "                flat_list.append(item)\n",
        "        else:\n",
        "            flat_list.append(element)\n",
        "    return flat_list\n",
        "\n",
        "import binascii, copy, random, sys\n",
        "# Galois Multiplication\n",
        "def galoisMult(a, b):\n",
        "    p = 0\n",
        "    hiBitSet = 0\n",
        "    for i in range(8):\n",
        "        if b & 1 == 1:\n",
        "            p ^= a\n",
        "        hiBitSet = a & 0x80\n",
        "        a <<= 1\n",
        "        if hiBitSet == 0x80:\n",
        "            a ^= 0x1b\n",
        "        b >>= 1\n",
        "    return p % 256\n",
        "\n",
        "#mixColumn takes a column and does stuff\n",
        "def mixColumn(column):\n",
        "    temp = copy.copy(column)\n",
        "    column[0] = galoisMult(temp[0],2) ^ galoisMult(temp[3],1) ^ \\\n",
        "                galoisMult(temp[2],1) ^ galoisMult(temp[1],3)\n",
        "    column[1] = galoisMult(temp[1],2) ^ galoisMult(temp[0],1) ^ \\\n",
        "                galoisMult(temp[3],1) ^ galoisMult(temp[2],3)\n",
        "    column[2] = galoisMult(temp[2],2) ^ galoisMult(temp[1],1) ^ \\\n",
        "                galoisMult(temp[0],1) ^ galoisMult(temp[3],3)\n",
        "    column[3] = galoisMult(temp[3],2) ^ galoisMult(temp[2],1) ^ \\\n",
        "                galoisMult(temp[1],1) ^ galoisMult(temp[0],3)\n",
        "# mixColumns is a wrapper for mixColumn - generates a \"virtual\" column from\n",
        "# the state table and applies the weird galois math\n",
        "def mixColumns(state):\n",
        "    for i in range (len(state)):\n",
        "       for j in range(4):\n",
        "          state[i][j] =int(bin(int(state[i][j],16))[2:])\n",
        "    state=flatten_list(state)\n",
        "    for i in range(4):\n",
        "        column = []\n",
        "        # create the column by taking the same item out of each \"virtual\" row\n",
        "        for j in range(4):\n",
        "            column.append(state[j*4+i])\n",
        "\n",
        "        # apply mixColumn on our virtual column\n",
        "        mixColumn(column)\n",
        "\n",
        "        # transfer the new values back into the state table\n",
        "        for j in range(4):\n",
        "            state[j*4+i] = column[j]\n",
        "    return state\n",
        "def mixColumns_final(state):\n",
        "  test=mixColumns(state)\n",
        "  for i in range (len(test)):\n",
        "    test[i]=hex(test[i])\n",
        "  test1= convert_1d_to_2d(test,4)\n",
        "  return test1\n",
        "\n",
        "state50=[['33', 'eb', '5f', '30'], ['2f', '93', '92', 'c0'], ['af', 'c7', 'ab', '30'], ['a2', '20', 'cb', '2b']]\n",
        "#state_bin1d=[1100011, 11101011, 10011111, 10100000, 101111, 10010011, 10010010, 11000000,10101111, 11000111, 10101011, 110000,10100010, 100000, 11001011, 101011]\n",
        "#state3=[0x63, 0xeb, 0x9f, 0xa0, 0x2f, 0x93, 0x92, 0xc0,0xaf, 0xc7, 0xab, 0x30,0xa2, 0x20, 0xcb, 0x2b]\n",
        "#for i in range (16):\n",
        "#   state_bin1d[i]=int(state_bin1d[i])\n",
        "\n",
        "#print(mixColumns(state3))\n",
        "#[['0x92', '0x9f', '0xc0', '0x38'], ['0xad', '0xaf', '0x4e', '0xe3'], ['0x8c', '0x6d', '0x95', '0x35'], ['0xf2', '0x1a', '0xc6', '0x2d']]\n",
        "print(mixColumns_final(state50))"
      ]
    },
    {
      "cell_type": "code",
      "source": [
        "\"\"\"\n",
        "i=0\n",
        "k=0\n",
        "while k <11:\n",
        "  rows,cols = (4,4)\n",
        "  arr = [[0 for i in range(cols)] for j in range(rows)]\n",
        "  while i < k+4:\n",
        "    for j in range (4):\n",
        "       arr[i][j]=table[i][j]\n",
        "    i=i+1\n",
        "  k=k+4\n",
        "  i=k\n",
        "  print(arr)\n",
        "\"\"\""
      ],
      "metadata": {
        "id": "htENN2eujEJd",
        "colab": {
          "base_uri": "https://localhost:8080/",
          "height": 53
        },
        "outputId": "c0c63477-323d-4d32-dd78-761dcabcb632"
      },
      "execution_count": null,
      "outputs": [
        {
          "output_type": "execute_result",
          "data": {
            "text/plain": [
              "' \\ni=0\\nk=0\\nwhile k <11:\\n  rows,cols = (4,4)\\n  arr = [[0 for i in range(cols)] for j in range(rows)]\\n  while i < k+4:\\n    for j in range (4):\\n       arr[i][j]=table[i][j]\\n    i=i+1\\n  k=k+4\\n  i=k\\n  print(arr)\\n'"
            ],
            "application/vnd.google.colaboratory.intrinsic+json": {
              "type": "string"
            }
          },
          "metadata": {},
          "execution_count": 9
        }
      ]
    },
    {
      "cell_type": "code",
      "source": [
        "rkeys = table\n",
        "print(rkeys)\n",
        "#Round Keys generate\n",
        "R0 = []\n",
        "\n",
        "R0.append(rkeys[0])\n",
        "R0.append(rkeys[1])\n",
        "R0.append(rkeys[2])\n",
        "R0.append(rkeys[3])\n",
        "R1 = []\n",
        "R1.append(rkeys[4])\n",
        "R1.append(rkeys[5])\n",
        "R1.append(rkeys[6])\n",
        "R1.append(rkeys[7])\n",
        "R2 = []\n",
        "R2.append(rkeys[8])\n",
        "R2.append(rkeys[9])\n",
        "R2.append(rkeys[10])\n",
        "R2.append(rkeys[11])\n",
        "R3 = []\n",
        "R3.append(rkeys[12])\n",
        "R3.append(rkeys[13])\n",
        "R3.append(rkeys[14])\n",
        "R3.append(rkeys[15])\n",
        "R4 = []\n",
        "R4.append(rkeys[16])\n",
        "R4.append(rkeys[17])\n",
        "R4.append(rkeys[18])\n",
        "R4.append(rkeys[19])\n",
        "R5 = []\n",
        "R5.append(rkeys[20])\n",
        "R5.append(rkeys[21])\n",
        "R5.append(rkeys[22])\n",
        "R5.append(rkeys[23])\n",
        "R6 = []\n",
        "R6.append(rkeys[24])\n",
        "R6.append(rkeys[25])\n",
        "R6.append(rkeys[26])\n",
        "R6.append(rkeys[27])\n",
        "R7 = []\n",
        "R7.append(rkeys[28])\n",
        "R7.append(rkeys[29])\n",
        "R7.append(rkeys[30])\n",
        "R7.append(rkeys[31])\n",
        "R8 = []\n",
        "R8.append(rkeys[32])\n",
        "R8.append(rkeys[33])\n",
        "R8.append(rkeys[34])\n",
        "R8.append(rkeys[35])\n",
        "R9 = []\n",
        "R9.append(rkeys[36])\n",
        "R9.append(rkeys[37])\n",
        "R9.append(rkeys[38])\n",
        "R9.append(rkeys[39])\n",
        "R10 = []\n",
        "R10.append(rkeys[40])\n",
        "R10.append(rkeys[41])\n",
        "R10.append(rkeys[42])\n",
        "R10.append(rkeys[43])\n",
        "print(R0)\n",
        "print(R1)\n"
      ],
      "metadata": {
        "colab": {
          "base_uri": "https://localhost:8080/"
        },
        "id": "9IwjFADttKFS",
        "outputId": "5849c57b-3868-4700-c3a4-904bc3224cfe"
      },
      "execution_count": null,
      "outputs": [
        {
          "output_type": "stream",
          "name": "stdout",
          "text": [
            "[['54', '73', '20', '67'], ['68', '20', '4b', '20'], ['61', '6d', '75', '46'], ['74', '79', '6e', '75'], ['e3', 'ec', 'bd', 'f5'], ['8b', 'cc', 'f6', 'd5'], ['ea', 'a1', '83', '93'], ['9e', 'd8', 'ed', 'e6'], ['80', 'b9', '33', 'fe'], ['0b', '75', 'c5', '2b'], ['e1', 'd4', '46', 'b8'], ['7f', '0c', 'ab', '5e'], ['7a', 'db', '6b', '2c'], ['71', 'ae', 'ae', '07'], ['90', '7a', 'e8', 'bf'], ['ef', '76', '43', 'e1'], ['4a', 'c1', '93', 'f3'], ['3b', '6f', '3d', 'f4'], ['ab', '15', 'd5', '4b'], ['44', '63', '96', 'aa'], ['a1', '51', '3f', 'e8'], ['9a', '3e', '02', '1c'], ['31', '2b', 'd7', '57'], ['75', '48', '41', 'fd'], ['d3', 'd2', '6b', '75'], ['49', 'ec', '69', '69'], ['78', 'c7', 'be', '3e'], ['0d', '8f', 'ff', 'c3'], ['e0', 'c4', '45', 'a2'], ['a9', '28', '2c', 'cb'], ['d1', 'ef', '92', 'f5'], ['dc', '60', '6d', '36'], ['b0', 'f8', '40', '24'], ['19', 'd0', '6c', 'ef'], ['c8', '3f', 'fe', '1a'], ['14', '5f', '93', '2c'], ['64', '24', '31', 'de'], ['7d', 'f4', '5d', '31'], ['b5', 'cb', 'a3', '2b'], ['a1', '94', '30', '07'], ['70', '20', 'f4', 'ec'], ['0d', 'd4', 'a9', 'dd'], ['b8', '1f', '0a', 'f6'], ['19', '8b', '3a', 'f1']]\n",
            "[['54', '73', '20', '67'], ['68', '20', '4b', '20'], ['61', '6d', '75', '46'], ['74', '79', '6e', '75']]\n",
            "[['e3', 'ec', 'bd', 'f5'], ['8b', 'cc', 'f6', 'd5'], ['ea', 'a1', '83', '93'], ['9e', 'd8', 'ed', 'e6']]\n"
          ]
        }
      ]
    },
    {
      "cell_type": "code",
      "source": [
        "#AES ENCRYPTIO\n",
        "\"\"\"\n",
        "def encrypt(state):\n",
        "  states= convertPlain(state)\n",
        "  states= AddRoundKey(states,R0)\n",
        "  for i in range(10):\n",
        "\n",
        "     states= subytes(states)\n",
        "     print(states)\n",
        "     states= shiftrows(states)\n",
        "     #print(states)\n",
        "     states= mixColumns_final(states)\n",
        "     #print(states)\n",
        "     if i==1:\n",
        "           states= AddRoundKey(states,R1)\n",
        "     if i==2:\n",
        "              states= AddRoundKey(states,R2)\n",
        "\n",
        "     if i==3:\n",
        "              states=AddRoundKey(states,R3)\n",
        "\n",
        "     if i==4:\n",
        "              states=AddRoundKey(states,R4)\n",
        "\n",
        "     if i==5:\n",
        "              states=AddRoundKey(states,R5)\n",
        "\n",
        "     if i==6:\n",
        "              states=AddRoundKey(states,R6)\n",
        "\n",
        "     if i==7:\n",
        "              states=AddRoundKey(states,R7)\n",
        "\n",
        "     if i==8:\n",
        "\n",
        "              states=AddRoundKey(states,R8)\n",
        "\n",
        "     if i==9:\n",
        "             states=AddRoundKey(states,R9)\n",
        "\n",
        "\n",
        "\n",
        "  states= subytes(states)\n",
        "  states= shiftrows(states)\n",
        "  print(states)\n",
        "  states=AddRoundKey(states,R10)\n",
        "  print(states)\n",
        "  return states\n",
        "\n",
        "\n",
        "print(encrypt(\"Two One Nine Two\"))\n",
        "print(encrypt(\"bcw bbr nibr mmm\"))\n",
        "#[['8d', 'dd', '09', '11'], ['f0', '29', '54', '20'], ['45', 'e2', 'f7', '0b'], ['e4', '76', 'c7', '0c']]\n",
        "\"\"\""
      ],
      "metadata": {
        "id": "LH9aVR6HRF6G",
        "colab": {
          "base_uri": "https://localhost:8080/",
          "height": 123
        },
        "outputId": "7ef36fbe-1483-49e9-a20d-45792b22380c"
      },
      "execution_count": null,
      "outputs": [
        {
          "output_type": "execute_result",
          "data": {
            "text/plain": [
              "'\\ndef encrypt(state):\\n  states= convertPlain(state)\\n  states= AddRoundKey(states,R0)\\n  for i in range(10):\\n     \\n     states= subytes(states)\\n     print(states)\\n     states= shiftrows(states)\\n     #print(states)\\n     states= mixColumns_final(states)\\n     #print(states)\\n     if i==1:\\n           states= AddRoundKey(states,R1)\\n     if i==2:\\n              states= AddRoundKey(states,R2)\\n\\n     if i==3:\\n              states=AddRoundKey(states,R3)\\n\\n     if i==4:\\n              states=AddRoundKey(states,R4)\\n\\n     if i==5:\\n              states=AddRoundKey(states,R5)\\n\\n     if i==6:\\n              states=AddRoundKey(states,R6)\\n\\n     if i==7:\\n              states=AddRoundKey(states,R7)\\n\\n     if i==8:\\n\\n              states=AddRoundKey(states,R8)\\n\\n     if i==9:\\n             states=AddRoundKey(states,R9)\\n    \\n\\n    \\n  states= subytes(states)\\n  states= shiftrows(states)\\n  print(states)\\n  states=AddRoundKey(states,R10)\\n  print(states)\\n  return states\\n\\n\\nprint(encrypt(\"Two One Nine Two\"))\\nprint(encrypt(\"bcw bbr nibr mmm\"))\\n#[[\\'8d\\', \\'dd\\', \\'09\\', \\'11\\'], [\\'f0\\', \\'29\\', \\'54\\', \\'20\\'], [\\'45\\', \\'e2\\', \\'f7\\', \\'0b\\'], [\\'e4\\', \\'76\\', \\'c7\\', \\'0c\\']]\\n'"
            ],
            "application/vnd.google.colaboratory.intrinsic+json": {
              "type": "string"
            }
          },
          "metadata": {},
          "execution_count": 11
        }
      ]
    },
    {
      "cell_type": "code",
      "source": [
        "#Encryption\n",
        "#ptext= convertPlain(plaintext)\n",
        "def encryption(plaintext):\n",
        "  ctext = AddRoundKey(plaintext, R0)\n",
        "  round = 1\n",
        "  while round < 10:\n",
        "   ctext = subytes(ctext)\n",
        "   ctext = shiftrows(ctext)\n",
        "   ctext = mixColumns_final(ctext)\n",
        "   if round == 1:\n",
        "    ctext = AddRoundKey(ctext, R1)\n",
        "    round += 1\n",
        "   elif round == 2:\n",
        "    ctext = AddRoundKey(ctext, R2)\n",
        "    round += 1\n",
        "   elif round == 3:\n",
        "    ctext = AddRoundKey(ctext, R3)\n",
        "    round += 1\n",
        "   elif round == 4:\n",
        "    ctext = AddRoundKey(ctext, R4)\n",
        "    round += 1\n",
        "   elif round == 5:\n",
        "    ctext = AddRoundKey(ctext, R5)\n",
        "    round += 1\n",
        "   elif round == 6:\n",
        "    ctext = AddRoundKey(ctext, R6)\n",
        "    round += 1\n",
        "   elif round == 7:\n",
        "    ctext = AddRoundKey(ctext, R7)\n",
        "    round += 1\n",
        "   elif round == 8:\n",
        "    ctext = AddRoundKey(ctext, R8)\n",
        "    round += 1\n",
        "   elif round == 9:\n",
        "    ctext = AddRoundKey(ctext, R9)\n",
        "    round += 1\n",
        "#encryption for round 10\n",
        "  ctext = subytes(ctext)\n",
        "  ctext = shiftrows(ctext)\n",
        "  ctext = AddRoundKey(ctext, R10)\n",
        "  return ctext\n",
        "#print(encryption(\"Two One Nine Two\"))\n",
        "#print(encryption(\"bcw bbr nibr mmm\"))"
      ],
      "metadata": {
        "id": "gmJNiTgFXkSD"
      },
      "execution_count": null,
      "outputs": []
    },
    {
      "cell_type": "code",
      "source": [
        "user= input(\"Please enter plaintext to be encrypted: \")"
      ],
      "metadata": {
        "colab": {
          "base_uri": "https://localhost:8080/"
        },
        "id": "Nn4gv-ZCggFl",
        "outputId": "91eb1a71-07ad-4f37-a43b-8230f62caea6"
      },
      "execution_count": null,
      "outputs": [
        {
          "name": "stdout",
          "output_type": "stream",
          "text": [
            "Please enter plaintext to be encrypted: Two one nine two\n"
          ]
        }
      ]
    },
    {
      "cell_type": "code",
      "source": [
        "pconvert=convertPlain(user)\n",
        "print(\"This is the encrptyion of your plaintext :\",encryption(pconvert))"
      ],
      "metadata": {
        "colab": {
          "base_uri": "https://localhost:8080/"
        },
        "id": "YQaZgDm0iziR",
        "outputId": "5e49efaf-7465-4231-b195-afac7db5e895"
      },
      "execution_count": null,
      "outputs": [
        {
          "output_type": "stream",
          "name": "stdout",
          "text": [
            "This is the encrptyion of your plaintext : [['8b', 'd1', '28', 'e3'], ['18', '95', '4a', '3f'], ['0f', '60', 'c0', 'ef'], ['a8', 'd8', 'd9', 'b2']]\n"
          ]
        }
      ]
    },
    {
      "cell_type": "markdown",
      "source": [
        "# ***Task Two***"
      ],
      "metadata": {
        "id": "W5gkm7EZj7OP"
      }
    },
    {
      "cell_type": "code",
      "source": [
        "def pad(text, block_size):\n",
        "\n",
        "    #Performs padding on the given plaintext to ensure that it is a multiple\n",
        "    #of the given block_size value in the parameter. Uses the PKCS7 standard\n",
        "    #for performing padding.\n",
        "\n",
        "    no_of_blocks = math.ceil(len(text)/float(block_size))\n",
        "    pad_value = int(no_of_blocks * block_size - len(text))\n",
        "\n",
        "    if pad_value == 0:\n",
        "        return text + chr(block_size) * block_size\n",
        "    else:\n",
        "        return text + chr(pad_value) * pad_value\n",
        "pad(user,16)"
      ],
      "metadata": {
        "id": "dbmifvdZv-kv",
        "colab": {
          "base_uri": "https://localhost:8080/",
          "height": 36
        },
        "outputId": "47f15b3f-2340-4390-eba8-aad3c1c76a55"
      },
      "execution_count": null,
      "outputs": [
        {
          "output_type": "execute_result",
          "data": {
            "text/plain": [
              "'Two one nine two\\x10\\x10\\x10\\x10\\x10\\x10\\x10\\x10\\x10\\x10\\x10\\x10\\x10\\x10\\x10\\x10'"
            ],
            "application/vnd.google.colaboratory.intrinsic+json": {
              "type": "string"
            }
          },
          "metadata": {},
          "execution_count": 15
        }
      ]
    },
    {
      "cell_type": "code",
      "source": [
        "\"\"\"\n",
        "\n",
        "def pad1(plaintext):\n",
        "\n",
        "    padding_len = 16 - (len(plaintext) % 16)\n",
        "    padding = bytes([padding_len] * padding_len)\n",
        "    arr=[1,2]\n",
        "    arr[0]=plaintext\n",
        "    arr[1]=padding\n",
        "    return arr\n",
        "print(pad1(user))\n",
        "v2=b'\\x10\\x10\\x10\\x10\\x10\\x10\\x10\\x10\\x10\\x10\\x10\\x10\\x10\\x10'.encode('utf-8')\n",
        "b=v2.hex()\n",
        "print(b)\n",
        "\"\"\""
      ],
      "metadata": {
        "colab": {
          "base_uri": "https://localhost:8080/",
          "height": 53
        },
        "id": "7TI9cEI6DyZZ",
        "outputId": "dbd29de5-eba0-4e2b-afaf-b77b9f6f7244"
      },
      "execution_count": null,
      "outputs": [
        {
          "output_type": "execute_result",
          "data": {
            "text/plain": [
              "\"\\n\\ndef pad1(plaintext):\\n  \\n    padding_len = 16 - (len(plaintext) % 16)\\n    padding = bytes([padding_len] * padding_len)\\n    arr=[1,2]\\n    arr[0]=plaintext \\n    arr[1]=padding\\n    return arr\\nprint(pad1(user))\\nv2=b'\\x10\\x10\\x10\\x10\\x10\\x10\\x10\\x10\\x10\\x10\\x10\\x10\\x10\\x10'.encode('utf-8')\\nb=v2.hex()\\nprint(b)\\n\""
            ],
            "application/vnd.google.colaboratory.intrinsic+json": {
              "type": "string"
            }
          },
          "metadata": {},
          "execution_count": 16
        }
      ]
    },
    {
      "cell_type": "code",
      "source": [
        "def split_blocks(user, block_size=16):\n",
        "        assert len(user) % block_size == 0\n",
        "        return [user[i:i+16] for i in range(0, len(user), block_size)]\n",
        "ppad=pad(user,16)\n",
        "print(split_blocks(ppad,16))"
      ],
      "metadata": {
        "id": "Qy6K3Bbj1w22",
        "colab": {
          "base_uri": "https://localhost:8080/"
        },
        "outputId": "13e26ede-e007-4998-9d7f-4ff93a9d1c93"
      },
      "execution_count": null,
      "outputs": [
        {
          "output_type": "stream",
          "name": "stdout",
          "text": [
            "['Two one nine two', '\\x10\\x10\\x10\\x10\\x10\\x10\\x10\\x10\\x10\\x10\\x10\\x10\\x10\\x10\\x10\\x10']\n"
          ]
        }
      ]
    },
    {
      "cell_type": "code",
      "source": [
        "def ecb_encrypt( data):\n",
        "    ppad=pad(data,16)\n",
        "    psplit=split_blocks(ppad,16)\n",
        "    c=[]\n",
        "    for i in range(len(psplit)):\n",
        "      psplit[i]=convertPlain(psplit[i])\n",
        "      c.append(encryption(psplit[i]))\n",
        "\n",
        "    return c\n",
        "\n",
        "print(ecb_encrypt(user))\n",
        "print(ecb_encrypt('Ome tso sige mmm'))"
      ],
      "metadata": {
        "id": "Rc5_5dCeL5Dt",
        "colab": {
          "base_uri": "https://localhost:8080/"
        },
        "outputId": "8c8bf1ae-5c1f-4926-9297-1e1d85f16abe"
      },
      "execution_count": null,
      "outputs": [
        {
          "output_type": "stream",
          "name": "stdout",
          "text": [
            "[[['8b', 'd1', '28', 'e3'], ['18', '95', '4a', '3f'], ['0f', '60', 'c0', 'ef'], ['a8', 'd8', 'd9', 'b2']], [['58', 'ca', 'a6', 'c1'], ['ff', '29', '3e', '4f'], ['b9', '7e', '44', '12'], ['7b', '56', 'e0', '97']]]\n",
            "[[['f4', '85', 'ae', 'cc'], ['c4', '36', 'd2', '98'], ['f6', 'f7', '79', 'c7'], ['1e', '9f', '6f', 'dd']], [['58', 'ca', 'a6', 'c1'], ['ff', '29', '3e', '4f'], ['b9', '7e', '44', '12'], ['7b', '56', 'e0', '97']]]\n"
          ]
        }
      ]
    },
    {
      "cell_type": "code",
      "source": [
        "import os\n",
        "#xor blocks\n",
        "def xorblocks(ptext, iv):\n",
        "  ciphertext = []\n",
        "  for i in range(len(ptext)): #n of arrays\n",
        "   res1=[]\n",
        "   for j in range(len(ptext[i])): #n elements in array\n",
        "      x = hexor(ptext[i][j], iv[i][j])\n",
        "      if(len(x)>2):\n",
        "        res1.append(x[1:])\n",
        "      else:\n",
        "        res1.append(x)\n",
        "   ciphertext.append(res1)\n",
        "  return ciphertext\n",
        "\n",
        "#generate initialization vector\n",
        "def generate_random_iv(iv_length):\n",
        "    return bytes.hex(os.urandom(iv_length))"
      ],
      "metadata": {
        "id": "rZvgEsjZ76am"
      },
      "execution_count": null,
      "outputs": []
    },
    {
      "cell_type": "code",
      "source": [
        "import textwrap\n",
        "def cbc_encrypt(data):\n",
        "    plaintext=pad(data,16)\n",
        "    psplit=split_blocks(plaintext,16)\n",
        "    iv=generate_random_iv(16)\n",
        "    ivarray = textwrap.wrap(iv, 2)\n",
        "    ivmatrix = np.reshape(ivarray, (4,4))\n",
        "    previous=ivmatrix\n",
        "    #p=convertPlain(psplit[0])\n",
        "    #p2=xorblocks(p, previous)\n",
        "    #c_1=encryption(p2)\n",
        "    cx=[]\n",
        "    #c.append(c_1)\n",
        "    #c[0]=encryption(psplit[0])\n",
        "    #print(c[0])\n",
        "    for i in range(len(psplit)):\n",
        "    #for i in split_blocks(plaintext):\n",
        "      pp=convertPlain(psplit[i])\n",
        "      c=encryption(xorblocks(pp,previous))\n",
        "      cx.append(c)\n",
        "      previous=c\n",
        "    return cx\n",
        "print(cbc_encrypt('Ome tso sige mmm'))\n"
      ],
      "metadata": {
        "id": "B2VfWRJUues2",
        "colab": {
          "base_uri": "https://localhost:8080/"
        },
        "outputId": "3292cb40-342a-4573-f164-75c6ea8a4c1d"
      },
      "execution_count": null,
      "outputs": [
        {
          "output_type": "stream",
          "name": "stdout",
          "text": [
            "[[['b4', '5c', 'ca', '38'], ['38', '58', '26', '86'], ['f2', '79', 'bc', '32'], ['62', 'cd', '33', 'bd']], [['11', 'c9', '7e', 'ff'], ['2e', '96', 'a8', '94'], ['fa', '53', 'af', 'e5'], ['0a', '82', '2e', 'b7']]]\n"
          ]
        }
      ]
    },
    {
      "cell_type": "markdown",
      "source": [
        "GUI for cbc and ebc test"
      ],
      "metadata": {
        "id": "rnKEArOx0yIy"
      }
    },
    {
      "cell_type": "code",
      "source": [
        "p_ebc=input(\"Please enter a text to be encrypted using ebc mode of encryption: \")"
      ],
      "metadata": {
        "colab": {
          "base_uri": "https://localhost:8080/"
        },
        "id": "GzqFmWgT0--d",
        "outputId": "7ae9d91d-5935-4f98-d821-d76930e65008"
      },
      "execution_count": null,
      "outputs": [
        {
          "name": "stdout",
          "output_type": "stream",
          "text": [
            "Please enter a text to be encrypted using ebc mode of encryption: two one nine two\n"
          ]
        }
      ]
    },
    {
      "cell_type": "code",
      "source": [
        "print(ecb_encrypt(p_ebc))"
      ],
      "metadata": {
        "colab": {
          "base_uri": "https://localhost:8080/"
        },
        "id": "XpOWyC1q1m-e",
        "outputId": "e7a472d6-c089-4215-f5ce-3b969c6410c6"
      },
      "execution_count": null,
      "outputs": [
        {
          "output_type": "stream",
          "name": "stdout",
          "text": [
            "[[['72', '4e', 'fd', 'b8'], ['43', 'd2', '5d', 'f5'], ['c7', '1f', 'ff', '99'], ['e6', 'fe', '25', '76']], [['58', 'ca', 'a6', 'c1'], ['ff', '29', '3e', '4f'], ['b9', '7e', '44', '12'], ['7b', '56', 'e0', '97']]]\n"
          ]
        }
      ]
    },
    {
      "cell_type": "code",
      "source": [
        "p_cbc=input(\"Please enter a text to be encrypted using cbc mode of encryption: \")"
      ],
      "metadata": {
        "colab": {
          "base_uri": "https://localhost:8080/"
        },
        "id": "8gG2NsYW1xu6",
        "outputId": "8347b03f-718b-44aa-e2fc-ce91ec569924"
      },
      "execution_count": null,
      "outputs": [
        {
          "name": "stdout",
          "output_type": "stream",
          "text": [
            "Please enter a text to be encrypted using cbc mode of encryption: two one nine two\n"
          ]
        }
      ]
    },
    {
      "cell_type": "code",
      "source": [
        "print(cbc_encrypt(p_cbc))"
      ],
      "metadata": {
        "colab": {
          "base_uri": "https://localhost:8080/"
        },
        "id": "4xUU4IXb1_yL",
        "outputId": "1278165a-12b4-4759-f748-0ac34f73e50a"
      },
      "execution_count": null,
      "outputs": [
        {
          "output_type": "stream",
          "name": "stdout",
          "text": [
            "[[['e3', '5b', '5d', 'b7'], ['35', '6a', '31', '9a'], ['4f', '81', '63', '38'], ['12', '08', '4d', 'c9']], [['d7', '6e', 'e9', '0a'], ['f8', '27', '69', '22'], ['b1', '71', '71', '82'], ['b3', '5d', '13', 'bf']]]\n"
          ]
        }
      ]
    }
  ],
  "metadata": {
    "colab": {
      "provenance": []
    },
    "kernelspec": {
      "display_name": "Python 3",
      "name": "python3"
    },
    "language_info": {
      "name": "python"
    }
  },
  "nbformat": 4,
  "nbformat_minor": 0
}